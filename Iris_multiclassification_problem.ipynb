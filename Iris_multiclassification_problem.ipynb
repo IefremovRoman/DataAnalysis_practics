{
  "nbformat": 4,
  "nbformat_minor": 0,
  "metadata": {
    "colab": {
      "name": "Iris_multiclassification_problem.ipynb",
      "provenance": [],
      "authorship_tag": "ABX9TyPwv79sQMxM0BcA8ED8v735"
    },
    "kernelspec": {
      "name": "python3",
      "display_name": "Python 3"
    }
  },
  "cells": [
    {
      "cell_type": "code",
      "metadata": {
        "id": "W10vHZIjX2Og",
        "colab_type": "code",
        "colab": {}
      },
      "source": [
        "from sklearn import datasets \n",
        "from sklearn.metrics import confusion_matrix, f1_score, accuracy_score, precision_score, recall_score \n",
        "from sklearn.model_selection import train_test_split \n",
        "\n",
        "from sklearn.tree import DecisionTreeClassifier\n",
        "from sklearn.svm import SVC\n",
        "from sklearn.neighbors import KNeighborsClassifier\n",
        "from sklearn.naive_bayes import GaussianNB"
      ],
      "execution_count": 1,
      "outputs": []
    },
    {
      "cell_type": "code",
      "metadata": {
        "id": "3a9y2BN6bHTr",
        "colab_type": "code",
        "colab": {}
      },
      "source": [
        "import pandas as pd\n",
        "import numpy as np\n",
        "import matplotlib.pyplot as plt\n",
        "from pandas.plotting import andrews_curves"
      ],
      "execution_count": 2,
      "outputs": []
    },
    {
      "cell_type": "code",
      "metadata": {
        "id": "o-q3aEnHa90U",
        "colab_type": "code",
        "colab": {}
      },
      "source": [
        "iris = datasets.load_iris()\n",
        "X = iris.data \n",
        "y = iris.target"
      ],
      "execution_count": 3,
      "outputs": []
    },
    {
      "cell_type": "code",
      "metadata": {
        "id": "VtNkPRY6bkoi",
        "colab_type": "code",
        "colab": {}
      },
      "source": [
        "df = pd.DataFrame(X)"
      ],
      "execution_count": 4,
      "outputs": []
    },
    {
      "cell_type": "code",
      "metadata": {
        "id": "17WdFiwkbpRw",
        "colab_type": "code",
        "colab": {
          "base_uri": "https://localhost:8080/",
          "height": 204
        },
        "outputId": "a4923c44-9664-44ba-aee4-6db2c46ba40a"
      },
      "source": [
        "df.head()"
      ],
      "execution_count": 5,
      "outputs": [
        {
          "output_type": "execute_result",
          "data": {
            "text/html": [
              "<div>\n",
              "<style scoped>\n",
              "    .dataframe tbody tr th:only-of-type {\n",
              "        vertical-align: middle;\n",
              "    }\n",
              "\n",
              "    .dataframe tbody tr th {\n",
              "        vertical-align: top;\n",
              "    }\n",
              "\n",
              "    .dataframe thead th {\n",
              "        text-align: right;\n",
              "    }\n",
              "</style>\n",
              "<table border=\"1\" class=\"dataframe\">\n",
              "  <thead>\n",
              "    <tr style=\"text-align: right;\">\n",
              "      <th></th>\n",
              "      <th>0</th>\n",
              "      <th>1</th>\n",
              "      <th>2</th>\n",
              "      <th>3</th>\n",
              "    </tr>\n",
              "  </thead>\n",
              "  <tbody>\n",
              "    <tr>\n",
              "      <th>0</th>\n",
              "      <td>5.1</td>\n",
              "      <td>3.5</td>\n",
              "      <td>1.4</td>\n",
              "      <td>0.2</td>\n",
              "    </tr>\n",
              "    <tr>\n",
              "      <th>1</th>\n",
              "      <td>4.9</td>\n",
              "      <td>3.0</td>\n",
              "      <td>1.4</td>\n",
              "      <td>0.2</td>\n",
              "    </tr>\n",
              "    <tr>\n",
              "      <th>2</th>\n",
              "      <td>4.7</td>\n",
              "      <td>3.2</td>\n",
              "      <td>1.3</td>\n",
              "      <td>0.2</td>\n",
              "    </tr>\n",
              "    <tr>\n",
              "      <th>3</th>\n",
              "      <td>4.6</td>\n",
              "      <td>3.1</td>\n",
              "      <td>1.5</td>\n",
              "      <td>0.2</td>\n",
              "    </tr>\n",
              "    <tr>\n",
              "      <th>4</th>\n",
              "      <td>5.0</td>\n",
              "      <td>3.6</td>\n",
              "      <td>1.4</td>\n",
              "      <td>0.2</td>\n",
              "    </tr>\n",
              "  </tbody>\n",
              "</table>\n",
              "</div>"
            ],
            "text/plain": [
              "     0    1    2    3\n",
              "0  5.1  3.5  1.4  0.2\n",
              "1  4.9  3.0  1.4  0.2\n",
              "2  4.7  3.2  1.3  0.2\n",
              "3  4.6  3.1  1.5  0.2\n",
              "4  5.0  3.6  1.4  0.2"
            ]
          },
          "metadata": {
            "tags": []
          },
          "execution_count": 5
        }
      ]
    },
    {
      "cell_type": "code",
      "metadata": {
        "id": "P4OQhDsycrMo",
        "colab_type": "code",
        "colab": {
          "base_uri": "https://localhost:8080/",
          "height": 136
        },
        "outputId": "76920d5f-f028-41fe-a509-3561bd874005"
      },
      "source": [
        "y"
      ],
      "execution_count": 6,
      "outputs": [
        {
          "output_type": "execute_result",
          "data": {
            "text/plain": [
              "array([0, 0, 0, 0, 0, 0, 0, 0, 0, 0, 0, 0, 0, 0, 0, 0, 0, 0, 0, 0, 0, 0,\n",
              "       0, 0, 0, 0, 0, 0, 0, 0, 0, 0, 0, 0, 0, 0, 0, 0, 0, 0, 0, 0, 0, 0,\n",
              "       0, 0, 0, 0, 0, 0, 1, 1, 1, 1, 1, 1, 1, 1, 1, 1, 1, 1, 1, 1, 1, 1,\n",
              "       1, 1, 1, 1, 1, 1, 1, 1, 1, 1, 1, 1, 1, 1, 1, 1, 1, 1, 1, 1, 1, 1,\n",
              "       1, 1, 1, 1, 1, 1, 1, 1, 1, 1, 1, 1, 2, 2, 2, 2, 2, 2, 2, 2, 2, 2,\n",
              "       2, 2, 2, 2, 2, 2, 2, 2, 2, 2, 2, 2, 2, 2, 2, 2, 2, 2, 2, 2, 2, 2,\n",
              "       2, 2, 2, 2, 2, 2, 2, 2, 2, 2, 2, 2, 2, 2, 2, 2, 2, 2])"
            ]
          },
          "metadata": {
            "tags": []
          },
          "execution_count": 6
        }
      ]
    },
    {
      "cell_type": "code",
      "metadata": {
        "id": "rGbRXmNkiL0n",
        "colab_type": "code",
        "colab": {
          "base_uri": "https://localhost:8080/",
          "height": 585
        },
        "outputId": "48e22b43-ba4f-47ab-b24e-6c3a553752ef"
      },
      "source": [
        "# The indices of the features that we are plotting\n",
        "x_index = 0\n",
        "y_index = 1\n",
        "\n",
        "# this formatter will label the colorbar with the correct target names\n",
        "formatter = plt.FuncFormatter(lambda i, *args: iris.target_names[int(i)])\n",
        "\n",
        "plt.figure(figsize=(10, 8))\n",
        "plt.scatter(iris.data[:, x_index], iris.data[:, y_index], c=iris.target)\n",
        "plt.colorbar(ticks=[0, 1, 2], format=formatter)\n",
        "plt.xlabel(iris.feature_names[x_index])\n",
        "plt.ylabel(iris.feature_names[y_index])\n",
        "\n",
        "plt.tight_layout()\n",
        "plt.show()"
      ],
      "execution_count": 7,
      "outputs": [
        {
          "output_type": "display_data",
          "data": {
            "image/png": "[encoded data removed]",
            "text/plain": [
              "<Figure size 720x576 with 2 Axes>"
            ]
          },
          "metadata": {
            "tags": [],
            "needs_background": "light"
          }
        }
      ]
    },
    {
      "cell_type": "code",
      "metadata": {
        "id": "u_kCy5LmiNQu",
        "colab_type": "code",
        "colab": {}
      },
      "source": [
        "X_train, X_test, y_train, y_test = train_test_split(X, y, random_state = 0)"
      ],
      "execution_count": 8,
      "outputs": []
    },
    {
      "cell_type": "code",
      "metadata": {
        "id": "Oy3pd7Cwi-Nt",
        "colab_type": "code",
        "colab": {}
      },
      "source": [
        "dtree_model = DecisionTreeClassifier(max_depth = 2).fit(X_train, y_train) \n",
        "dtree_predictions = dtree_model.predict(X_test)"
      ],
      "execution_count": 9,
      "outputs": []
    },
    {
      "cell_type": "code",
      "metadata": {
        "id": "9FFykP-_j8ER",
        "colab_type": "code",
        "colab": {
          "base_uri": "https://localhost:8080/",
          "height": 85
        },
        "outputId": "d9353f80-ea1b-41eb-b0cb-4e185adfc285"
      },
      "source": [
        "print(f\"Accuracy of DescisionTreeClassifier is {accuracy_score(y_test, dtree_predictions)}\")\n",
        "print(f\"Accuracy of DescisionTreeClassifier is {precision_score(y_test, dtree_predictions, average=None)}\")\n",
        "print(f\"Accuracy of DescisionTreeClassifier is {recall_score(y_test, dtree_predictions, average=None)}\")\n",
        "print(f\"Accuracy of DescisionTreeClassifier is {f1_score(y_test, dtree_predictions, average=None)}\")"
      ],
      "execution_count": 10,
      "outputs": [
        {
          "output_type": "stream",
          "text": [
            "Accuracy of DescisionTreeClassifier is 0.8947368421052632\n",
            "Accuracy of DescisionTreeClassifier is [1.         0.83333333 0.85714286]\n",
            "Accuracy of DescisionTreeClassifier is [1.         0.9375     0.66666667]\n",
            "Accuracy of DescisionTreeClassifier is [1.         0.88235294 0.75      ]\n"
          ],
          "name": "stdout"
        }
      ]
    },
    {
      "cell_type": "code",
      "metadata": {
        "id": "HBHTSMJrjAMO",
        "colab_type": "code",
        "colab": {
          "base_uri": "https://localhost:8080/",
          "height": 68
        },
        "outputId": "4af15937-4285-49c7-93ed-66ae7b06ff22"
      },
      "source": [
        "cm = confusion_matrix(y_test, dtree_predictions)\n",
        "cm"
      ],
      "execution_count": 11,
      "outputs": [
        {
          "output_type": "execute_result",
          "data": {
            "text/plain": [
              "array([[13,  0,  0],\n",
              "       [ 0, 15,  1],\n",
              "       [ 0,  3,  6]])"
            ]
          },
          "metadata": {
            "tags": []
          },
          "execution_count": 11
        }
      ]
    },
    {
      "cell_type": "code",
      "metadata": {
        "id": "PwSgMR5Cn3_e",
        "colab_type": "code",
        "colab": {
          "base_uri": "https://localhost:8080/",
          "height": 68
        },
        "outputId": "a24adb64-c408-4376-ca39-940bb2a7b5f8"
      },
      "source": [
        "svm_model_linear = SVC(kernel = 'linear', C = 1).fit(X_train, y_train) \n",
        "svm_predictions = svm_model_linear.predict(X_test)\n",
        "accuracy = svm_model_linear.score(X_test, y_test)\n",
        "accuracy\n",
        "cm = confusion_matrix(y_test, svm_predictions)\n",
        "cm"
      ],
      "execution_count": 13,
      "outputs": [
        {
          "output_type": "execute_result",
          "data": {
            "text/plain": [
              "array([[13,  0,  0],\n",
              "       [ 0, 15,  1],\n",
              "       [ 0,  0,  9]])"
            ]
          },
          "metadata": {
            "tags": []
          },
          "execution_count": 13
        }
      ]
    },
    {
      "cell_type": "code",
      "metadata": {
        "id": "0qQUQa4Zn_OU",
        "colab_type": "code",
        "colab": {
          "base_uri": "https://localhost:8080/",
          "height": 85
        },
        "outputId": "c3ea75eb-1502-4b3d-8cf7-5d71a4a1cac1"
      },
      "source": [
        "print(f\"Accuracy of SVM is {accuracy_score(y_test, svm_predictions)}\")\n",
        "print(f\"Accuracy of SVM is {precision_score(y_test, svm_predictions, average=None)}\")\n",
        "print(f\"Accuracy of SVM is {recall_score(y_test, svm_predictions, average=None)}\")\n",
        "print(f\"Accuracy of SVM is {f1_score(y_test, svm_predictions, average=None)}\")"
      ],
      "execution_count": 14,
      "outputs": [
        {
          "output_type": "stream",
          "text": [
            "Accuracy of SVM is 0.9736842105263158\n",
            "Accuracy of SVM is [1.  1.  0.9]\n",
            "Accuracy of SVM is [1.     0.9375 1.    ]\n",
            "Accuracy of SVM is [1.         0.96774194 0.94736842]\n"
          ],
          "name": "stdout"
        }
      ]
    },
    {
      "cell_type": "code",
      "metadata": {
        "id": "K2qLUnVMoS4a",
        "colab_type": "code",
        "colab": {}
      },
      "source": [
        "knn = KNeighborsClassifier(n_neighbors = 7).fit(X_train, y_train) \n",
        "knn_predictions = knn.predict(X_test)  "
      ],
      "execution_count": 15,
      "outputs": []
    },
    {
      "cell_type": "code",
      "metadata": {
        "id": "7lSltaHDocPb",
        "colab_type": "code",
        "colab": {
          "base_uri": "https://localhost:8080/",
          "height": 85
        },
        "outputId": "ac2fa750-353a-4781-b400-4f1f441da156"
      },
      "source": [
        "print(f\"Accuracy of KNeighborsClassifier is {accuracy_score(y_test, knn_predictions)}\")\n",
        "print(f\"Accuracy of KNeighborsClassifier is {precision_score(y_test, knn_predictions, average=None)}\")\n",
        "print(f\"Accuracy of KNeighborsClassifier is {recall_score(y_test, knn_predictions, average=None)}\")\n",
        "print(f\"Accuracy of KNeighborsClassifier is {f1_score(y_test, knn_predictions, average=None)}\")"
      ],
      "execution_count": 16,
      "outputs": [
        {
          "output_type": "stream",
          "text": [
            "Accuracy of KNeighborsClassifier is 0.9736842105263158\n",
            "Accuracy of KNeighborsClassifier is [1.  1.  0.9]\n",
            "Accuracy of KNeighborsClassifier is [1.     0.9375 1.    ]\n",
            "Accuracy of KNeighborsClassifier is [1.         0.96774194 0.94736842]\n"
          ],
          "name": "stdout"
        }
      ]
    },
    {
      "cell_type": "code",
      "metadata": {
        "id": "cF9j4mifoayB",
        "colab_type": "code",
        "colab": {
          "base_uri": "https://localhost:8080/",
          "height": 68
        },
        "outputId": "a15a9d63-9367-4913-a67e-281f0b4db92b"
      },
      "source": [
        "cm = confusion_matrix(y_test, knn_predictions)\n",
        "cm"
      ],
      "execution_count": 17,
      "outputs": [
        {
          "output_type": "execute_result",
          "data": {
            "text/plain": [
              "array([[13,  0,  0],\n",
              "       [ 0, 15,  1],\n",
              "       [ 0,  0,  9]])"
            ]
          },
          "metadata": {
            "tags": []
          },
          "execution_count": 17
        }
      ]
    },
    {
      "cell_type": "code",
      "metadata": {
        "id": "2fxHi8N7ooXR",
        "colab_type": "code",
        "colab": {}
      },
      "source": [
        "gnb = GaussianNB().fit(X_train, y_train) \n",
        "gnb_predictions = gnb.predict(X_test)"
      ],
      "execution_count": 18,
      "outputs": []
    },
    {
      "cell_type": "code",
      "metadata": {
        "id": "sbErsYKootnA",
        "colab_type": "code",
        "colab": {
          "base_uri": "https://localhost:8080/",
          "height": 85
        },
        "outputId": "487beea8-e783-4c19-dd04-b9a5862406e9"
      },
      "source": [
        "print(f\"Accuracy of GaussianNB is {accuracy_score(y_test, gnb_predictions)}\")\n",
        "print(f\"Accuracy of GaussianNB is {precision_score(y_test, gnb_predictions, average=None)}\")\n",
        "print(f\"Accuracy of GaussianNB is {recall_score(y_test, gnb_predictions, average=None)}\")\n",
        "print(f\"Accuracy of GaussianNB is {f1_score(y_test, gnb_predictions, average=None)}\")"
      ],
      "execution_count": 19,
      "outputs": [
        {
          "output_type": "stream",
          "text": [
            "Accuracy of GaussianNB is 1.0\n",
            "Accuracy of GaussianNB is [1. 1. 1.]\n",
            "Accuracy of GaussianNB is [1. 1. 1.]\n",
            "Accuracy of GaussianNB is [1. 1. 1.]\n"
          ],
          "name": "stdout"
        }
      ]
    },
    {
      "cell_type": "code",
      "metadata": {
        "id": "IFjhR39Hoqxw",
        "colab_type": "code",
        "colab": {
          "base_uri": "https://localhost:8080/",
          "height": 68
        },
        "outputId": "bd32ee22-e29e-471b-c643-b883d01e97fe"
      },
      "source": [
        "cm = confusion_matrix(y_test, gnb_predictions)\n",
        "cm"
      ],
      "execution_count": 20,
      "outputs": [
        {
          "output_type": "execute_result",
          "data": {
            "text/plain": [
              "array([[13,  0,  0],\n",
              "       [ 0, 16,  0],\n",
              "       [ 0,  0,  9]])"
            ]
          },
          "metadata": {
            "tags": []
          },
          "execution_count": 20
        }
      ]
    },
    {
      "cell_type": "markdown",
      "metadata": {
        "id": "_p7zeS0Qo4Wx",
        "colab_type": "text"
      },
      "source": [
        "## Neural network"
      ]
    },
    {
      "cell_type": "code",
      "metadata": {
        "id": "UpJKzFgEo6Mf",
        "colab_type": "code",
        "colab": {
          "base_uri": "https://localhost:8080/",
          "height": 34
        },
        "outputId": "0871aa85-92ab-4747-87ba-beafe27110c0"
      },
      "source": [
        "from keras.models import Sequential\n",
        "from keras.layers import Dense"
      ],
      "execution_count": 21,
      "outputs": [
        {
          "output_type": "stream",
          "text": [
            "Using TensorFlow backend.\n"
          ],
          "name": "stderr"
        }
      ]
    },
    {
      "cell_type": "code",
      "metadata": {
        "id": "L1KLuLbQpTBQ",
        "colab_type": "code",
        "colab": {}
      },
      "source": [
        "model = Sequential()\n",
        "model.add(Dense(8, input_dim=4, activation='relu', ))\n",
        "model.add(Dense(4, activation='relu'))\n",
        "model.add(Dense(3, activation='softmax', ))"
      ],
      "execution_count": 48,
      "outputs": []
    },
    {
      "cell_type": "code",
      "metadata": {
        "id": "mJhNAFuCrFFv",
        "colab_type": "code",
        "colab": {
          "base_uri": "https://localhost:8080/",
          "height": 255
        },
        "outputId": "5591916d-7983-46be-9a23-7010281272fe"
      },
      "source": [
        "model.summary()"
      ],
      "execution_count": 49,
      "outputs": [
        {
          "output_type": "stream",
          "text": [
            "Model: \"sequential_2\"\n",
            "_________________________________________________________________\n",
            "Layer (type)                 Output Shape              Param #   \n",
            "=================================================================\n",
            "dense_3 (Dense)              (None, 8)                 40        \n",
            "_________________________________________________________________\n",
            "dense_4 (Dense)              (None, 4)                 36        \n",
            "_________________________________________________________________\n",
            "dense_5 (Dense)              (None, 3)                 15        \n",
            "=================================================================\n",
            "Total params: 91\n",
            "Trainable params: 91\n",
            "Non-trainable params: 0\n",
            "_________________________________________________________________\n"
          ],
          "name": "stdout"
        }
      ]
    },
    {
      "cell_type": "code",
      "metadata": {
        "id": "Etd5cCLxpjEP",
        "colab_type": "code",
        "colab": {}
      },
      "source": [
        "model.compile(loss='sparse_categorical_crossentropy', optimizer='adam', metrics=['accuracy'])"
      ],
      "execution_count": 50,
      "outputs": []
    },
    {
      "cell_type": "code",
      "metadata": {
        "id": "4Hb2ZSpIppHW",
        "colab_type": "code",
        "colab": {
          "base_uri": "https://localhost:8080/",
          "height": 1000
        },
        "outputId": "5267deef-171f-4856-9580-076b9604224c"
      },
      "source": [
        "model.fit(X, y, epochs=50, batch_size=5)"
      ],
      "execution_count": 51,
      "outputs": [
        {
          "output_type": "stream",
          "text": [
            "Epoch 1/50\n",
            "150/150 [==============================] - 0s 688us/step - loss: 1.1088 - accuracy: 0.3333\n",
            "Epoch 2/50\n",
            "150/150 [==============================] - 0s 212us/step - loss: 1.0882 - accuracy: 0.3867\n",
            "Epoch 3/50\n",
            "150/150 [==============================] - 0s 199us/step - loss: 1.0744 - accuracy: 0.3333\n",
            "Epoch 4/50\n",
            "150/150 [==============================] - 0s 204us/step - loss: 1.0625 - accuracy: 0.4333\n",
            "Epoch 5/50\n",
            "150/150 [==============================] - 0s 219us/step - loss: 1.0531 - accuracy: 0.5200\n",
            "Epoch 6/50\n",
            "150/150 [==============================] - 0s 194us/step - loss: 1.0401 - accuracy: 0.4533\n",
            "Epoch 7/50\n",
            "150/150 [==============================] - 0s 200us/step - loss: 1.0289 - accuracy: 0.4933\n",
            "Epoch 8/50\n",
            "150/150 [==============================] - 0s 212us/step - loss: 1.0131 - accuracy: 0.5267\n",
            "Epoch 9/50\n",
            "150/150 [==============================] - 0s 194us/step - loss: 0.9972 - accuracy: 0.5200\n",
            "Epoch 10/50\n",
            "150/150 [==============================] - 0s 210us/step - loss: 0.9791 - accuracy: 0.4667\n",
            "Epoch 11/50\n",
            "150/150 [==============================] - 0s 208us/step - loss: 0.9576 - accuracy: 0.5733\n",
            "Epoch 12/50\n",
            "150/150 [==============================] - 0s 187us/step - loss: 0.9363 - accuracy: 0.6533\n",
            "Epoch 13/50\n",
            "150/150 [==============================] - 0s 206us/step - loss: 0.9148 - accuracy: 0.6400\n",
            "Epoch 14/50\n",
            "150/150 [==============================] - 0s 197us/step - loss: 0.8914 - accuracy: 0.7467\n",
            "Epoch 15/50\n",
            "150/150 [==============================] - 0s 194us/step - loss: 0.8687 - accuracy: 0.8867\n",
            "Epoch 16/50\n",
            "150/150 [==============================] - 0s 202us/step - loss: 0.8485 - accuracy: 0.8000\n",
            "Epoch 17/50\n",
            "150/150 [==============================] - 0s 200us/step - loss: 0.8253 - accuracy: 0.8400\n",
            "Epoch 18/50\n",
            "150/150 [==============================] - 0s 201us/step - loss: 0.8056 - accuracy: 0.8133\n",
            "Epoch 19/50\n",
            "150/150 [==============================] - 0s 198us/step - loss: 0.7873 - accuracy: 0.8667\n",
            "Epoch 20/50\n",
            "150/150 [==============================] - 0s 239us/step - loss: 0.7704 - accuracy: 0.7867\n",
            "Epoch 21/50\n",
            "150/150 [==============================] - 0s 199us/step - loss: 0.7549 - accuracy: 0.8400\n",
            "Epoch 22/50\n",
            "150/150 [==============================] - 0s 204us/step - loss: 0.7397 - accuracy: 0.8933\n",
            "Epoch 23/50\n",
            "150/150 [==============================] - 0s 195us/step - loss: 0.7261 - accuracy: 0.8067\n",
            "Epoch 24/50\n",
            "150/150 [==============================] - 0s 226us/step - loss: 0.7111 - accuracy: 0.9067\n",
            "Epoch 25/50\n",
            "150/150 [==============================] - 0s 245us/step - loss: 0.6993 - accuracy: 0.8933\n",
            "Epoch 26/50\n",
            "150/150 [==============================] - 0s 244us/step - loss: 0.6843 - accuracy: 0.8933\n",
            "Epoch 27/50\n",
            "150/150 [==============================] - 0s 242us/step - loss: 0.6735 - accuracy: 0.8667\n",
            "Epoch 28/50\n",
            "150/150 [==============================] - 0s 230us/step - loss: 0.6596 - accuracy: 0.9467\n",
            "Epoch 29/50\n",
            "150/150 [==============================] - 0s 185us/step - loss: 0.6516 - accuracy: 0.8867\n",
            "Epoch 30/50\n",
            "150/150 [==============================] - 0s 203us/step - loss: 0.6396 - accuracy: 0.9200\n",
            "Epoch 31/50\n",
            "150/150 [==============================] - 0s 243us/step - loss: 0.6252 - accuracy: 0.9667\n",
            "Epoch 32/50\n",
            "150/150 [==============================] - 0s 265us/step - loss: 0.6151 - accuracy: 0.9533\n",
            "Epoch 33/50\n",
            "150/150 [==============================] - 0s 209us/step - loss: 0.6010 - accuracy: 0.9600\n",
            "Epoch 34/50\n",
            "150/150 [==============================] - 0s 231us/step - loss: 0.5905 - accuracy: 0.9600\n",
            "Epoch 35/50\n",
            "150/150 [==============================] - 0s 243us/step - loss: 0.5889 - accuracy: 0.8933\n",
            "Epoch 36/50\n",
            "150/150 [==============================] - 0s 231us/step - loss: 0.5682 - accuracy: 0.9667\n",
            "Epoch 37/50\n",
            "150/150 [==============================] - 0s 237us/step - loss: 0.5558 - accuracy: 0.9400\n",
            "Epoch 38/50\n",
            "150/150 [==============================] - 0s 221us/step - loss: 0.5450 - accuracy: 0.9600\n",
            "Epoch 39/50\n",
            "150/150 [==============================] - 0s 236us/step - loss: 0.5337 - accuracy: 0.9467\n",
            "Epoch 40/50\n",
            "150/150 [==============================] - 0s 231us/step - loss: 0.5224 - accuracy: 0.9667\n",
            "Epoch 41/50\n",
            "150/150 [==============================] - 0s 233us/step - loss: 0.5109 - accuracy: 0.9667\n",
            "Epoch 42/50\n",
            "150/150 [==============================] - 0s 242us/step - loss: 0.5003 - accuracy: 0.9600\n",
            "Epoch 43/50\n",
            "150/150 [==============================] - 0s 231us/step - loss: 0.4939 - accuracy: 0.9667\n",
            "Epoch 44/50\n",
            "150/150 [==============================] - 0s 252us/step - loss: 0.4822 - accuracy: 0.9667\n",
            "Epoch 45/50\n",
            "150/150 [==============================] - 0s 226us/step - loss: 0.4713 - accuracy: 0.9600\n",
            "Epoch 46/50\n",
            "150/150 [==============================] - 0s 229us/step - loss: 0.4597 - accuracy: 0.9667\n",
            "Epoch 47/50\n",
            "150/150 [==============================] - 0s 226us/step - loss: 0.4412 - accuracy: 0.9733\n",
            "Epoch 48/50\n",
            "150/150 [==============================] - 0s 249us/step - loss: 0.4029 - accuracy: 0.9667\n",
            "Epoch 49/50\n",
            "150/150 [==============================] - 0s 202us/step - loss: 0.3566 - accuracy: 0.9800\n",
            "Epoch 50/50\n",
            "150/150 [==============================] - 0s 226us/step - loss: 0.3211 - accuracy: 0.9733\n"
          ],
          "name": "stdout"
        },
        {
          "output_type": "execute_result",
          "data": {
            "text/plain": [
              "<keras.callbacks.callbacks.History at 0x7f32fbcda860>"
            ]
          },
          "metadata": {
            "tags": []
          },
          "execution_count": 51
        }
      ]
    },
    {
      "cell_type": "code",
      "metadata": {
        "id": "lW7bRiGPqKuM",
        "colab_type": "code",
        "colab": {
          "base_uri": "https://localhost:8080/",
          "height": 51
        },
        "outputId": "772ec641-01e5-4d79-ea2e-853694121d53"
      },
      "source": [
        "_, accuracy = model.evaluate(X, y)\n",
        "print('Accuracy: %.2f' % (accuracy*100))"
      ],
      "execution_count": 52,
      "outputs": [
        {
          "output_type": "stream",
          "text": [
            "150/150 [==============================] - 0s 144us/step\n",
            "Accuracy: 97.33\n"
          ],
          "name": "stdout"
        }
      ]
    },
    {
      "cell_type": "code",
      "metadata": {
        "id": "lrznf3a06_6p",
        "colab_type": "code",
        "colab": {}
      },
      "source": [
        "nn_predictions = model.predict_classes(X)"
      ],
      "execution_count": 53,
      "outputs": []
    },
    {
      "cell_type": "code",
      "metadata": {
        "id": "pdndFtzh9PzL",
        "colab_type": "code",
        "colab": {
          "base_uri": "https://localhost:8080/",
          "height": 68
        },
        "outputId": "577ce1df-6675-4c7d-c284-b02cbaf9c6ff"
      },
      "source": [
        "cm = confusion_matrix(y, nn_predictions)\n",
        "cm"
      ],
      "execution_count": 54,
      "outputs": [
        {
          "output_type": "execute_result",
          "data": {
            "text/plain": [
              "array([[50,  0,  0],\n",
              "       [ 0, 46,  4],\n",
              "       [ 0,  0, 50]])"
            ]
          },
          "metadata": {
            "tags": []
          },
          "execution_count": 54
        }
      ]
    }
  ]
}